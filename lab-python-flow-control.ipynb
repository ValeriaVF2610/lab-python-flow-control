{
 "cells": [
  {
   "cell_type": "markdown",
   "id": "d3bfc191-8885-42ee-b0a0-bbab867c6f9f",
   "metadata": {
    "tags": []
   },
   "source": [
    "# Lab | Flow Control"
   ]
  },
  {
   "cell_type": "markdown",
   "id": "3851fcd1-cf98-4653-9c89-e003b7ec9400",
   "metadata": {},
   "source": [
    "## Exercise: Managing Customer Orders Optimized\n",
    "\n",
    "In the last lab, you were starting an online store that sells various products. To ensure smooth operations, you developed a program that manages customer orders and inventory.\n",
    "\n",
    "You did so without using flow control. Let's go a step further and improve this code.\n",
    "\n",
    "Follow the steps below to complete the exercise:\n",
    "\n",
    "1. Look at your code from the lab data structures, and improve repeated code with loops.\n",
    "\n",
    "2. Instead of asking the user to input the name of three products that a customer wants to order, do the following:\n",
    "    \n",
    "    a. Prompt the user to enter the name of a product that a customer wants to order.\n",
    "    \n",
    "    b. Add the product name to the \"customer_orders\" set.\n",
    "    \n",
    "    c. Ask the user if they want to add another product (yes/no).\n",
    "    \n",
    "    d. Continue the loop until the user does not want to add another product.\n",
    "\n",
    "3. Instead of updating the inventory by subtracting 1 from the quantity of each product, only do it for  the products that were ordered (those in \"customer_orders\")."
   ]
  },
  {
   "cell_type": "code",
   "execution_count": 1,
   "id": "be0c56ed",
   "metadata": {},
   "outputs": [],
   "source": [
    "#Define a list called products.\n",
    "products = [\"t-shirt\", \"mug\", \"hat\", \"book\", \"keychain\"]\n",
    "#Create a dictionary called inventory.\n",
    "inventory = {}"
   ]
  },
  {
   "cell_type": "code",
   "execution_count": 2,
   "id": "278f45a8",
   "metadata": {},
   "outputs": [],
   "source": [
    "#Ask the user for the amount of each product.\n",
    "for product in products:\n",
    "    quantity = int(input(f\"Indicate the quantity of {product}: \"))\n",
    "    inventory[product] = quantity"
   ]
  },
  {
   "cell_type": "code",
   "execution_count": 3,
   "id": "3c7b89b7",
   "metadata": {},
   "outputs": [
    {
     "name": "stdout",
     "output_type": "stream",
     "text": [
      "Order complete!\n",
      "Customer orders: {'mug', 'hat', 'book'}\n"
     ]
    }
   ],
   "source": [
    "#Create a set called customer_orders\n",
    "customer_orders = set()\n",
    "\n",
    "#Ask the user to input what the customer wants to order\n",
    "order = input(\"Input a product the costumer want to order:\").lower().strip()\n",
    "while order not in products:\n",
    "    order = input(f\"This option doesn't seem to be available. Please choose from {products}\").lower().strip()\n",
    "customer_orders.add(order)\n",
    "\n",
    "#Ask if he wants to order something else. If he does, ask what.\n",
    "answer = input(\"Does the client want to order something else? Choose YES or NO\").upper().strip()\n",
    "while answer not in (\"YES\", \"NO\"):\n",
    "    answer = input(\"Plese, choose only YES or NO\").upper().strip()\n",
    "    while answer == \"YES\":\n",
    "        order = input(\"Input a product the costumer want to order:\").lower().strip()\n",
    "        while order not in products:\n",
    "            order = input(f\"This option doesn't seem to be available. Please choose from {products}\").lower().strip()\n",
    "        customer_orders.add(order)\n",
    "        answer = input(\"Does the client want to order something else? Choose YES or NO\").upper().strip()\n",
    "\n",
    "print(\"Order complete!\")\n",
    "print(\"Customer orders:\", customer_orders)"
   ]
  },
  {
   "cell_type": "code",
   "execution_count": 4,
   "id": "536e900a",
   "metadata": {},
   "outputs": [],
   "source": [
    "#Calculate total number of products ordered\n",
    "\n",
    "amount_ordered = 0\n",
    "for object in customer_orders:\n",
    "    amount_ordered += 1\n",
    "\n",
    "#Calculate percentage ordered compared to inventory\n",
    "\n",
    "amount_inventory = 0\n",
    "for value in inventory.values():\n",
    "    amount_inventory += value\n",
    "\n",
    "percentage_ordered = amount_ordered*100/amount_inventory\n",
    "\n",
    "#Create a tuple called order_status\n",
    "order_status = (amount_ordered, percentage_ordered)"
   ]
  },
  {
   "cell_type": "code",
   "execution_count": 5,
   "id": "7abd9b39",
   "metadata": {},
   "outputs": [
    {
     "name": "stdout",
     "output_type": "stream",
     "text": [
      "Order Statistics:\n",
      "Total Products Ordered: 3\n",
      "Percentage of Products Ordered: 1.948051948051948%\n"
     ]
    }
   ],
   "source": [
    "#Print the order statistics using the following format:\n",
    "\n",
    "print(f\"Order Statistics:\\nTotal Products Ordered: {amount_ordered}\\nPercentage of Products Ordered: {percentage_ordered}%\")"
   ]
  },
  {
   "cell_type": "code",
   "execution_count": 6,
   "id": "cb83cadc",
   "metadata": {},
   "outputs": [],
   "source": [
    "#Update the inventory by substracting one of each product ordered\n",
    "\n",
    "for product in customer_orders:\n",
    "    if product in inventory:\n",
    "        inventory[product] -= 1"
   ]
  },
  {
   "cell_type": "code",
   "execution_count": 7,
   "id": "1cce5bcb",
   "metadata": {},
   "outputs": [
    {
     "name": "stdout",
     "output_type": "stream",
     "text": [
      "UPDATED INVENTORY\n",
      "t-shirt: 10\n",
      "mug: 14\n",
      "hat: 64\n",
      "book: 42\n",
      "keychain: 21\n"
     ]
    }
   ],
   "source": [
    "#Print inventory each product in new line\n",
    "\n",
    "print(\"UPDATED INVENTORY\")\n",
    "for product, quantity in inventory.items():\n",
    "    print(f\"{product}: {quantity}\")"
   ]
  }
 ],
 "metadata": {
  "kernelspec": {
   "display_name": "Python 3 (ipykernel)",
   "language": "python",
   "name": "python3"
  },
  "language_info": {
   "codemirror_mode": {
    "name": "ipython",
    "version": 3
   },
   "file_extension": ".py",
   "mimetype": "text/x-python",
   "name": "python",
   "nbconvert_exporter": "python",
   "pygments_lexer": "ipython3",
   "version": "3.12.6"
  }
 },
 "nbformat": 4,
 "nbformat_minor": 5
}
